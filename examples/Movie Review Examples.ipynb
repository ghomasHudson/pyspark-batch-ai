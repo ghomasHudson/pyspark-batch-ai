{
 "cells": [
  {
   "cell_type": "markdown",
   "id": "4d11f962-1283-4510-9fc4-abfc65130156",
   "metadata": {},
   "source": [
    "# Movie Review Examples\n",
    "\n",
    "Let's walk through a simple example of solving tasks using spark tables and LLMs. Imagine we have a table of movie reviews:"
   ]
  },
  {
   "cell_type": "code",
   "execution_count": 2,
   "id": "e3ce430a-540a-4050-a355-9b7eadc340c8",
   "metadata": {},
   "outputs": [
    {
     "data": {
      "text/html": [
       "<table border='1'>\n",
       "<tr><th>age</th><th>name</th><th>review</th></tr>\n",
       "<tr><td>20</td><td>A. Smith</td><td>The movie was great!</td></tr>\n",
       "<tr><td>35</td><td>B. Jones</td><td>The movie did not...</td></tr>\n",
       "<tr><td>40</td><td>C. Addams</td><td>Why is this movie...</td></tr>\n",
       "</table>\n"
      ],
      "text/plain": [
       "+---+---------+--------------------+\n",
       "|age|     name|              review|\n",
       "+---+---------+--------------------+\n",
       "| 20| A. Smith|The movie was great!|\n",
       "| 35| B. Jones|The movie did not...|\n",
       "| 40|C. Addams|Why is this movie...|\n",
       "+---+---------+--------------------+"
      ]
     },
     "execution_count": 2,
     "metadata": {},
     "output_type": "execute_result"
    }
   ],
   "source": [
    "import pyspark\n",
    "from pyspark.sql import SparkSession\n",
    "spark = SparkSession.builder.appName('sparkdf').getOrCreate()\n",
    "spark.conf.set(\"spark.sql.repl.eagerEval.enabled\", True) # for table pretty printing\n",
    "\n",
    "data = [\n",
    "    {\"name\": \"A. Smith\", \"age\": 20, \"review\": \"The movie was great!\"},\n",
    "    {\"name\": \"B. Jones\", \"age\": 35, \"review\": \"The movie did not live up to the hype.\"},\n",
    "    {\"name\": \"C. Addams\", \"age\": 40, \"review\": \"Why is this movie so bad when it was supposed to be good?\"},\n",
    "]\n",
    "\n",
    "df = spark.createDataFrame(data)\n",
    "df"
   ]
  },
  {
   "cell_type": "markdown",
   "id": "7e7bfc8b-314a-4a03-b1cd-802b2a359d74",
   "metadata": {},
   "source": [
    "We want to use an LLM to decide whether each review is positive or negative. Let's add a new column, `prompt` which takes the `review` column and prepends \"Is this review positive or negative\":"
   ]
  },
  {
   "cell_type": "code",
   "execution_count": 4,
   "id": "6d77f3fd-b069-4ad7-bfc6-e97cd647e7a1",
   "metadata": {},
   "outputs": [
    {
     "data": {
      "text/html": [
       "<table border='1'>\n",
       "<tr><th>age</th><th>name</th><th>review</th><th>prompt</th></tr>\n",
       "<tr><td>20</td><td>A. Smith</td><td>The movie was great!</td><td>Is this review po...</td></tr>\n",
       "<tr><td>35</td><td>B. Jones</td><td>The movie did not...</td><td>Is this review po...</td></tr>\n",
       "<tr><td>40</td><td>C. Addams</td><td>Why is this movie...</td><td>Is this review po...</td></tr>\n",
       "</table>\n"
      ],
      "text/plain": [
       "+---+---------+--------------------+--------------------+\n",
       "|age|     name|              review|              prompt|\n",
       "+---+---------+--------------------+--------------------+\n",
       "| 20| A. Smith|The movie was great!|Is this review po...|\n",
       "| 35| B. Jones|The movie did not...|Is this review po...|\n",
       "| 40|C. Addams|Why is this movie...|Is this review po...|\n",
       "+---+---------+--------------------+--------------------+"
      ]
     },
     "execution_count": 4,
     "metadata": {},
     "output_type": "execute_result"
    }
   ],
   "source": [
    "import pyspark.sql.functions as F\n",
    "\n",
    "df = df.withColumn(\n",
    "    \"prompt\",\n",
    "    F.concat(\n",
    "        F.lit(\"Is this review positive or negative?\\n\"),\n",
    "        F.col(\"review\"),\n",
    "    ),\n",
    ")\n",
    "df"
   ]
  },
  {
   "cell_type": "markdown",
   "id": "0c81373b-bf43-4ec6-874d-7ca3e9d870a2",
   "metadata": {},
   "source": [
    "Setup the openai client with your API key:"
   ]
  },
  {
   "cell_type": "code",
   "execution_count": 6,
   "id": "9e94eb68-bac5-42c5-a1f0-406eba8d2e6e",
   "metadata": {},
   "outputs": [],
   "source": [
    "from openai import OpenAI\n",
    "client = OpenAI()"
   ]
  },
  {
   "cell_type": "markdown",
   "id": "73466858-e965-4ca3-a68e-f2d7bb54b478",
   "metadata": {},
   "source": [
    "Now let's import the `spark_batch_ai` library and process the table:"
   ]
  },
  {
   "cell_type": "code",
   "execution_count": 8,
   "id": "d23b11ec-d324-4a98-8e26-5419727c170a",
   "metadata": {},
   "outputs": [
    {
     "name": "stdout",
     "output_type": "stream",
     "text": [
      "\u001b[32m2025-01-08 15:58:46.077\u001b[0m | \u001b[1mINFO    \u001b[0m | \u001b[36mpyspark_batch_ai.core\u001b[0m:\u001b[36mprocess_dataframe\u001b[0m:\u001b[36m120\u001b[0m - \u001b[1mDetected output format: plain\u001b[0m\n",
      "\u001b[32m2025-01-08 15:58:46.267\u001b[0m | \u001b[1mINFO    \u001b[0m | \u001b[36mpyspark_batch_ai.core\u001b[0m:\u001b[36m_submit_and_process\u001b[0m:\u001b[36m366\u001b[0m - \u001b[1mTotal number of jobs to run: 1\u001b[0m\n",
      "\u001b[32m2025-01-08 15:58:49.150\u001b[0m | \u001b[1mINFO    \u001b[0m | \u001b[36mpyspark_batch_ai.core\u001b[0m:\u001b[36m_submit_and_process\u001b[0m:\u001b[36m374\u001b[0m - \u001b[1mCurrently running: 1, Jobs left in queue: 0\u001b[0m\n",
      "\u001b[32m2025-01-08 15:59:50.026\u001b[0m | \u001b[1mINFO    \u001b[0m | \u001b[36mpyspark_batch_ai.core\u001b[0m:\u001b[36mmonitor_batches\u001b[0m:\u001b[36m319\u001b[0m - \u001b[1mBatch ID: batch_677ea0b8b35c8190b75ca17e15d01906, Status changed from validating to completed\u001b[0m\n",
      "\u001b[32m2025-01-08 15:59:50.026\u001b[0m | \u001b[1mINFO    \u001b[0m | \u001b[36mpyspark_batch_ai.core\u001b[0m:\u001b[36mmonitor_batches\u001b[0m:\u001b[36m330\u001b[0m - \u001b[1mBatch ID batch_677ea0b8b35c8190b75ca17e15d01906 completed. Output file ID: file-4Etiqu4ikmzcb9SHx94Wfq\u001b[0m\n",
      "\u001b[32m2025-01-08 15:59:50.026\u001b[0m | \u001b[1mINFO    \u001b[0m | \u001b[36mpyspark_batch_ai.core\u001b[0m:\u001b[36mmonitor_batches\u001b[0m:\u001b[36m335\u001b[0m - \u001b[1mJobs left to process: 0\u001b[0m\n",
      "\u001b[32m2025-01-08 15:59:50.027\u001b[0m | \u001b[1mINFO    \u001b[0m | \u001b[36mpyspark_batch_ai.core\u001b[0m:\u001b[36mmonitor_batches\u001b[0m:\u001b[36m351\u001b[0m - \u001b[1mAll batch jobs have completed.\u001b[0m\n",
      "\u001b[32m2025-01-08 15:59:50.027\u001b[0m | \u001b[1mINFO    \u001b[0m | \u001b[36mpyspark_batch_ai.core\u001b[0m:\u001b[36m_submit_and_process\u001b[0m:\u001b[36m382\u001b[0m - \u001b[1mProcessing complete.\u001b[0m\n",
      "\u001b[32m2025-01-08 15:59:50.027\u001b[0m | \u001b[1mINFO    \u001b[0m | \u001b[36mpyspark_batch_ai.core\u001b[0m:\u001b[36m_submit_and_process\u001b[0m:\u001b[36m383\u001b[0m - \u001b[1mOutput file IDs: {'batch_677ea0b8b35c8190b75ca17e15d01906': 'file-4Etiqu4ikmzcb9SHx94Wfq'}\u001b[0m\n",
      "\u001b[32m2025-01-08 15:59:50.713\u001b[0m | \u001b[1mINFO    \u001b[0m | \u001b[36mpyspark_batch_ai.core\u001b[0m:\u001b[36mprocess_dataframe\u001b[0m:\u001b[36m168\u001b[0m - \u001b[1mProcessing complete. Time taken: 64.96 seconds\u001b[0m\n"
     ]
    },
    {
     "data": {
      "text/html": [
       "<table border='1'>\n",
       "<tr><th>age</th><th>name</th><th>review</th><th>prompt</th><th>response</th></tr>\n",
       "<tr><td>20</td><td>A. Smith</td><td>The movie was great!</td><td>Is this review po...</td><td>positive</td></tr>\n",
       "<tr><td>35</td><td>B. Jones</td><td>The movie did not...</td><td>Is this review po...</td><td>negative</td></tr>\n",
       "<tr><td>40</td><td>C. Addams</td><td>Why is this movie...</td><td>Is this review po...</td><td>Negative\\n\\nThe r...</td></tr>\n",
       "</table>\n"
      ],
      "text/plain": [
       "+---+---------+--------------------+--------------------+--------------------+\n",
       "|age|     name|              review|              prompt|            response|\n",
       "+---+---------+--------------------+--------------------+--------------------+\n",
       "| 20| A. Smith|The movie was great!|Is this review po...|            positive|\n",
       "| 35| B. Jones|The movie did not...|Is this review po...|            negative|\n",
       "| 40|C. Addams|Why is this movie...|Is this review po...|Negative\\n\\nThe r...|\n",
       "+---+---------+--------------------+--------------------+--------------------+"
      ]
     },
     "execution_count": 8,
     "metadata": {},
     "output_type": "execute_result"
    }
   ],
   "source": [
    "from pyspark_batch_ai import process_dataframe\n",
    "\n",
    "df_with_result = process_dataframe(df, client, model=\"gpt-3.5-turbo-0125\")\n",
    "df_with_result"
   ]
  }
 ],
 "metadata": {
  "kernelspec": {
   "display_name": "Python 3 (ipykernel)",
   "language": "python",
   "name": "python3"
  },
  "language_info": {
   "codemirror_mode": {
    "name": "ipython",
    "version": 3
   },
   "file_extension": ".py",
   "mimetype": "text/x-python",
   "name": "python",
   "nbconvert_exporter": "python",
   "pygments_lexer": "ipython3",
   "version": "3.12.7"
  }
 },
 "nbformat": 4,
 "nbformat_minor": 5
}
